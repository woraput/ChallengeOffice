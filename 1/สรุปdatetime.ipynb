{
 "cells": [
  {
   "cell_type": "markdown",
   "metadata": {},
   "source": [
    "## DateTime\n",
    "- รู้สึกว่า datetime ของ c# จัดการง่ายกว่าของ typescipct\n",
    "- สามารถกำหนดรูปแบบการ display datetime ได้ตามต้องการมี pettern การแสดงหลายแบบ\n",
    "- แปลง string to datetime ต้องเรียง ปปปป ดด วว -> วว ดด ปปปป \n",
    "- มีฟังก์ชัน คำนวณว่า ผ่านวันอาทิตย์ มากี่สัปดาห์แล้วให้ใช้ด้วย\n",
    "- timespan ใช้ช่วยในการคำนวณ datetime "
   ]
  }
 ],
 "metadata": {
  "kernelspec": {
   "display_name": ".NET (C#)",
   "language": "C#",
   "name": ".net-csharp"
  },
  "language_info": {
   "file_extension": ".cs",
   "mimetype": "text/x-csharp",
   "name": "C#",
   "pygments_lexer": "csharp",
   "version": "8.0"
  }
 },
 "nbformat": 4,
 "nbformat_minor": 4
}
