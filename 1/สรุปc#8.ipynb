{
 "cells": [
  {
   "cell_type": "markdown",
   "metadata": {},
   "source": [
    "## Readonly members\n",
    "* สามารถใส่ readonly ให้ member ของ struct ได้\n",
    "* ถ้า member เอาไปใช้ใน medthod readonly ก็ต้องใส่ readonly ให้ member ตัวนั้นตอนประกาศด้วย\n",
    "* ยังไม่เห็นภาพว่าจะเอาไปใช้ประโยชน์อะไร\n",
    "## Default interface methods\n",
    "* เบื้องต้นพูดถึงข้อดีของการทำ Default interface methods และมีการสอนเบื้องต้นมาแล้ว การสอนตัวอื่นจะทะยอยตามมาก\n",
    "* ดูแล้วงงๆ\n",
    "## More patterns in more places\n",
    "* แสดงรูปแบบการเขียน handle ภายใน case ต่างๆของ switch แบบใหม่ให้สั่นกว่าเขียนแบบปรกติ\n",
    "     * Property patterns\n",
    "     * Tuple patterns\n",
    "     * Positional patterns\n",
    "## Using declarations\n",
    "* วิธีใช้ using แบบใหม่ ที่ดูแล้วเข้าใจกว่าแบบเก่า แต่ส่วนตัวก็คิดว่าแล้วแต่หน้างานว่าเราควรใช้แบบไหน\n",
    "## Static local functions\n",
    "* ตามตัวใช้ static ได้\n",
    "## Disposable ref structs\n",
    "* ที่เข้าใจ คือการที่จะทำการ dispose ของ ref structs จะทำได้ต้องมีการเพิ่ม medthod void Dispose() เข้าไป \n",
    "* struct type ใช้ที่ไหน ละ ref struct คืออะไรงงเข้าไปใหญ่\n",
    "## Nullable reference types\n",
    "* type ใหม่ ถ้าหากเราต้องการให้ตัวแปรๆ ต่างเป็น null ได้ใส่ ? \n",
    "## Asynchronous streams\n",
    "* ที่เข้าใจเป็นวิธีการ เขียนอะไรบ้าง ต้องใส่อะไร \n",
    "* แต่ยังไม่เข้าใจว่าใช้ทำอะไร \n",
    "## Asynchronous disposable\n",
    "* เป็นเรื่องคล้ายหัวข้อด้านบน แต่ยังไม่เข้าใจว่าใช้ทำอะไร ทำไมต้องมีการ disposable  \n",
    "* dispose เห็นถูกพูดถึงตอนที่เราอ่าน ไฟล์บางอย่าง แต่กับตัวนี้คือใช้ทำอะไร\n",
    "## Indices and ranges \n",
    "* เป็นตัวที่เห็นละเข้าใจได้เลย น่าจะนิยมใช้มากกว่าหัวข้ออื่นๆ\n",
    "## Null-coalescing assignment\n",
    "* เป็นอีกตัวที่หน้าจะถูกใช้มากขึ้น  syntax กำหนดค่าให้ตัวแปรพร้อมๆกับเป็นการเช็ค null ไปในตัว\n",
    "## Unmanaged constructed types\n",
    "* เป็นส่วนนึง ของ struct type ที่ยังไม่เข้าใจ\n",
    "## Stackalloc in nested expressions\n",
    "* ดูตัวอย่างยังไม่ค่อยเข้าใจเท่าไหร่\n",
    "## Enhancement of interpolated verbatim strings\n",
    "* มีการเพิ่ม ตัว @ ให้สามารถใช้ร่วมกับ $ ได้แต่ไม่แน่ใจว่าช่วยทำอะไร"
   ]
  },
  {
   "cell_type": "code",
   "execution_count": null,
   "metadata": {},
   "outputs": [],
   "source": []
  },
  {
   "cell_type": "code",
   "execution_count": null,
   "metadata": {},
   "outputs": [],
   "source": []
  }
 ],
 "metadata": {
  "kernelspec": {
   "display_name": ".NET (C#)",
   "language": "C#",
   "name": ".net-csharp"
  },
  "language_info": {
   "file_extension": ".cs",
   "mimetype": "text/x-csharp",
   "name": "C#",
   "pygments_lexer": "csharp",
   "version": "8.0"
  }
 },
 "nbformat": 4,
 "nbformat_minor": 4
}
